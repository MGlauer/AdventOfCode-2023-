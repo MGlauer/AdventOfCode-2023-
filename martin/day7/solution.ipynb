{
 "cells": [
  {
   "cell_type": "code",
   "execution_count": 1,
   "metadata": {
    "ExecuteTime": {
     "end_time": "2023-12-07T19:30:06.145833575Z",
     "start_time": "2023-12-07T19:30:05.955812997Z"
    }
   },
   "outputs": [],
   "source": [
    "from enum import Enum, auto\n",
    "from typing import List\n",
    "from collections import Counter\n",
    "import functools"
   ]
  },
  {
   "cell_type": "code",
   "execution_count": 2,
   "outputs": [
    {
     "name": "stdout",
     "output_type": "stream",
     "text": [
      "['32T3K', '765']\n",
      "['T55J5', '684']\n",
      "['KK677', '28']\n",
      "['KTJJT', '220']\n",
      "['QQQJA', '483']\n"
     ]
    }
   ],
   "source": [
    "with open(\"test_input7.txt\") as fin:\n",
    "    string_rows = [line.strip().split(\" \") for line in fin]\n",
    "\n",
    "for row in string_rows:\n",
    "    print(row)"
   ],
   "metadata": {
    "collapsed": false,
    "ExecuteTime": {
     "end_time": "2023-12-07T19:30:06.165102975Z",
     "start_time": "2023-12-07T19:30:05.963299223Z"
    }
   }
  },
  {
   "cell_type": "markdown",
   "source": [
    "This whole task is all about ordering and sorting. Therefore, we map our cards to integers - those are easier to sort. "
   ],
   "metadata": {
    "collapsed": false
   }
  },
  {
   "cell_type": "code",
   "execution_count": 3,
   "outputs": [
    {
     "name": "stdout",
     "output_type": "stream",
     "text": [
      "{'2': 0, '3': 1, '4': 2, '5': 3, '6': 4, '7': 5, '8': 6, '9': 7, 'T': 8, 'J': 9, 'Q': 10, 'K': 11, 'A': 12}\n"
     ]
    }
   ],
   "source": [
    "all_cards = ['2', '3', '4', '5', '6', '7', '8', '9', 'T', 'J', 'Q', 'K', 'A']\n",
    "card_dict = dict(map(reversed, enumerate(all_cards)))\n",
    "print(card_dict)"
   ],
   "metadata": {
    "collapsed": false,
    "ExecuteTime": {
     "end_time": "2023-12-07T19:30:06.168034645Z",
     "start_time": "2023-12-07T19:30:05.963437711Z"
    }
   }
  },
  {
   "cell_type": "markdown",
   "source": [
    "Now we create an overview of all possible and types. Note that overwrite `__lt__` (i.e. less than). This is the method used by python to determen wether a thing is smaller than another thing when ordering things. "
   ],
   "metadata": {
    "collapsed": false
   }
  },
  {
   "cell_type": "code",
   "execution_count": 4,
   "outputs": [],
   "source": [
    "class HandValue(Enum):\n",
    "    HIGH_CARD = auto()\n",
    "    PAIR = auto()\n",
    "    TWO_PAIR = auto()\n",
    "    THREE_OF_A_KIND = auto()\n",
    "    FULL_HOUSE = auto()\n",
    "    FOUR_OF_A_KIND = auto()\n",
    "    FIVE_OF_A_KIND = auto()\n",
    "    \n",
    "    def __lt__(self, b):\n",
    "        return self.value < b.value\n"
   ],
   "metadata": {
    "collapsed": false,
    "ExecuteTime": {
     "end_time": "2023-12-07T19:30:06.168156159Z",
     "start_time": "2023-12-07T19:30:05.971090646Z"
    }
   }
  },
  {
   "cell_type": "markdown",
   "source": [
    "We can now compare hand types:"
   ],
   "metadata": {
    "collapsed": false
   }
  },
  {
   "cell_type": "code",
   "execution_count": 5,
   "outputs": [
    {
     "name": "stdout",
     "output_type": "stream",
     "text": [
      "True\n",
      "False\n"
     ]
    }
   ],
   "source": [
    "print(HandValue.TWO_PAIR < HandValue.THREE_OF_A_KIND)\n",
    "print(HandValue.TWO_PAIR < HandValue.PAIR)"
   ],
   "metadata": {
    "collapsed": false,
    "ExecuteTime": {
     "end_time": "2023-12-07T19:30:06.187859909Z",
     "start_time": "2023-12-07T19:30:05.978913350Z"
    }
   }
  },
  {
   "cell_type": "markdown",
   "source": [
    "Now we need a structure for our different hands. Because we want to implement rather complex methods on these hands, we implement a class for it. This class has three member variables:\n",
    "\n",
    "* `cards`: The string representation of the hand (e.g. `\"2KJ2K\"`)\n",
    "* `value`: The type of hand that we hold (`HandValue`). This value is derived from the cards in hand.\n",
    "\n",
    "I will explain the details below."
   ],
   "metadata": {
    "collapsed": false
   }
  },
  {
   "cell_type": "code",
   "execution_count": 6,
   "outputs": [],
   "source": [
    "@functools.total_ordering\n",
    "class Hand:\n",
    "    def __init__(self, card_string: str):\n",
    "        self.cards = card_string\n",
    "        self.value = self._determine_hand_value()\n",
    "    \n",
    "    @staticmethod   \n",
    "    def _map_card(c):\n",
    "        return card_dict[c]\n",
    "        \n",
    "    def _count_cards(self):\n",
    "        counter = Counter(self.cards)\n",
    "        # We do not need the cards, just their multiplicities\n",
    "        return counter\n",
    "        \n",
    "    def _determine_hand_value(self):\n",
    "        # Count all cards\n",
    "        numbers = list(self._count_cards().values())\n",
    "        \n",
    "        \n",
    "        if 5 in numbers:\n",
    "            return HandValue.FIVE_OF_A_KIND\n",
    "        elif 4 in numbers:\n",
    "            return HandValue.FOUR_OF_A_KIND\n",
    "        elif 3 in numbers:\n",
    "            # Is there another pair?\n",
    "            if 2 in numbers: \n",
    "                return HandValue.FULL_HOUSE\n",
    "            else:\n",
    "                return HandValue.THREE_OF_A_KIND\n",
    "        elif 2 in numbers:\n",
    "            # Is there another pair?\n",
    "            number_of_twos = numbers.count(2)\n",
    "            if number_of_twos == 1:\n",
    "                return HandValue.PAIR\n",
    "            elif number_of_twos == 2:\n",
    "                return HandValue.TWO_PAIR\n",
    "            else:\n",
    "                # This should never happen\n",
    "                raise Exception(\"More than 5 cards detected. Cheater!\")\n",
    "        else:\n",
    "            return HandValue.HIGH_CARD\n",
    "\n",
    "    def __lt__(self, other):\n",
    "        if self.value < other.value:\n",
    "            return True\n",
    "        elif other.value < self.value:\n",
    "            return False\n",
    "        else:\n",
    "            for (l,r) in zip(map(self._map_card, self.cards), map(self._map_card, other.cards)):\n",
    "                if l < r:\n",
    "                    return True\n",
    "                if r < l:\n",
    "                    return False\n",
    "            return False\n",
    "        \n",
    "    def __repr__(self):\n",
    "        return f\"{self.cards} ({self.value.name})\""
   ],
   "metadata": {
    "collapsed": false,
    "ExecuteTime": {
     "end_time": "2023-12-07T19:30:06.189454683Z",
     "start_time": "2023-12-07T19:30:05.984732190Z"
    }
   }
  },
  {
   "cell_type": "markdown",
   "source": [
    "The most important function in this class is `_determine_hand_value` that is used to derive the hand type from a given hand.\n",
    "For this, we count the number of cards in our hand. Let us consider the example `\"2KJ2K\"`. First, we count the number of instances of cards in this string:"
   ],
   "metadata": {
    "collapsed": false
   }
  },
  {
   "cell_type": "code",
   "execution_count": 7,
   "outputs": [
    {
     "data": {
      "text/plain": "Counter({'2': 2, 'K': 2, 'J': 1})"
     },
     "execution_count": 7,
     "metadata": {},
     "output_type": "execute_result"
    }
   ],
   "source": [
    "example_hand = Hand(\"2KJ2K\")\n",
    "example_hand._count_cards()"
   ],
   "metadata": {
    "collapsed": false,
    "ExecuteTime": {
     "end_time": "2023-12-07T19:30:06.191517028Z",
     "start_time": "2023-12-07T19:30:05.984830027Z"
    }
   }
  },
  {
   "cell_type": "markdown",
   "source": [
    "So, we have two kings and twos each and a single Jack . We put this into a simple decision scheme: If there are 5 of a card, it is \"five of a kind\", and so on down to 2. We only have to do a bit more for two and three. In both cases we have to check whether there is actually another pair in the hand. If nothing matches, we have a \"high card\". "
   ],
   "metadata": {
    "collapsed": false
   }
  },
  {
   "cell_type": "code",
   "execution_count": 8,
   "outputs": [
    {
     "data": {
      "text/plain": "'TWO_PAIR'"
     },
     "execution_count": 8,
     "metadata": {},
     "output_type": "execute_result"
    }
   ],
   "source": [
    "example_hand._determine_hand_value().name"
   ],
   "metadata": {
    "collapsed": false,
    "ExecuteTime": {
     "end_time": "2023-12-07T19:30:06.191711384Z",
     "start_time": "2023-12-07T19:30:05.997305052Z"
    }
   }
  },
  {
   "cell_type": "markdown",
   "source": [
    "Now, we overwrite the `__lt__` method for Hands as well. But here we have to be a bit more careful. If the hand types differ, we can just compare those and are done. If that is not the case, we iterate over both hands and compare the integer representations of those cards that we get from our `_map_card` method. As soon as they are not equal, we are done. Now we can also compare hands:"
   ],
   "metadata": {
    "collapsed": false
   }
  },
  {
   "cell_type": "code",
   "execution_count": 9,
   "outputs": [
    {
     "data": {
      "text/plain": "False"
     },
     "execution_count": 9,
     "metadata": {},
     "output_type": "execute_result"
    }
   ],
   "source": [
    "Hand(\"2KJ2K\") < Hand(\"2KJ2A\")"
   ],
   "metadata": {
    "collapsed": false,
    "ExecuteTime": {
     "end_time": "2023-12-07T19:30:06.196074803Z",
     "start_time": "2023-12-07T19:30:06.003485322Z"
    }
   }
  },
  {
   "cell_type": "markdown",
   "source": [
    "We can see the results for all cards in our test dataset."
   ],
   "metadata": {
    "collapsed": false
   }
  },
  {
   "cell_type": "code",
   "execution_count": 10,
   "outputs": [
    {
     "name": "stdout",
     "output_type": "stream",
     "text": [
      "Hand: 32T3K (PAIR)\tBet: 765\n",
      "Hand: KTJJT (TWO_PAIR)\tBet: 220\n",
      "Hand: KK677 (TWO_PAIR)\tBet: 28\n",
      "Hand: T55J5 (THREE_OF_A_KIND)\tBet: 684\n",
      "Hand: QQQJA (THREE_OF_A_KIND)\tBet: 483\n"
     ]
    }
   ],
   "source": [
    "rows = [ (Hand(hand),int(bet)) for hand, bet in string_rows]   \n",
    "for r in sorted(rows, key=lambda x: x[0]):\n",
    "    print(f\"Hand: {r[0]}\\tBet: {r[1]}\")"
   ],
   "metadata": {
    "collapsed": false,
    "ExecuteTime": {
     "end_time": "2023-12-07T19:30:06.197449021Z",
     "start_time": "2023-12-07T19:30:06.004701739Z"
    }
   }
  },
  {
   "cell_type": "markdown",
   "source": [
    "Now we just need to calculate the winnings as described in the task and we are done with task 1."
   ],
   "metadata": {
    "collapsed": false
   }
  },
  {
   "cell_type": "code",
   "execution_count": 11,
   "outputs": [],
   "source": [
    "def calculate_winnings(hands):\n",
    "    winnings = 0\n",
    "    rank = 1\n",
    "    for hand, bet in sorted(hands):\n",
    "        winnings += bet*rank\n",
    "        rank+=1\n",
    "    return winnings"
   ],
   "metadata": {
    "collapsed": false,
    "ExecuteTime": {
     "end_time": "2023-12-07T19:30:06.198801118Z",
     "start_time": "2023-12-07T19:30:06.014659649Z"
    }
   }
  },
  {
   "cell_type": "code",
   "execution_count": 12,
   "outputs": [
    {
     "data": {
      "text/plain": "6440"
     },
     "execution_count": 12,
     "metadata": {},
     "output_type": "execute_result"
    }
   ],
   "source": [
    "calculate_winnings(rows)"
   ],
   "metadata": {
    "collapsed": false,
    "ExecuteTime": {
     "end_time": "2023-12-07T19:30:06.216544664Z",
     "start_time": "2023-12-07T19:30:06.014763864Z"
    }
   }
  },
  {
   "cell_type": "markdown",
   "source": [
    "## Part2 \n",
    "\n",
    "Here things get more tricky. By introducing jokers into the mix, we are not just changing the value of a card, but also the way hands are interpreted. "
   ],
   "metadata": {
    "collapsed": false
   }
  },
  {
   "cell_type": "code",
   "execution_count": 13,
   "outputs": [],
   "source": [
    "class HandWithJokers(Hand):\n",
    "    \n",
    "    @staticmethod\n",
    "    def _map_card(c):\n",
    "        if c == \"J\":\n",
    "            return -1\n",
    "        else:\n",
    "            return Hand._map_card(c)\n",
    "    \n",
    "    def _count_cards(self):\n",
    "        # Count all cards\n",
    "        counter = Counter(self.cards)\n",
    "        jacks = counter.get(\"J\",0)\n",
    "        \n",
    "        # Find the non-jack-card that occurs most often\n",
    "        highest_group = None \n",
    "        for c, number in counter.items():\n",
    "            if c != \"J\":\n",
    "                if (highest_group is None # Is it the first element?\n",
    "                        or number > highest_group[1] # is the new card more frequent\n",
    "                        or (number == highest_group[1] and self._map_card(c) > self._map_card(highest_group[0]))): # is it equally frequent, but the new card has higher value? \n",
    "                    highest_group = (c,number)     \n",
    "\n",
    "        # Turn the jacks into cards of the highest group\n",
    "        if highest_group is not None:\n",
    "            counter[highest_group[0]] = highest_group[1] + jacks\n",
    "            counter[\"J\"] = 0\n",
    "        \n",
    "        # We do not need the cards, just their multiplicities\n",
    "        return counter\n"
   ],
   "metadata": {
    "collapsed": false,
    "ExecuteTime": {
     "end_time": "2023-12-07T19:30:06.216687247Z",
     "start_time": "2023-12-07T19:30:06.020805399Z"
    }
   }
  },
  {
   "cell_type": "markdown",
   "source": [
    "To accound for the first change, we can simply change the integer mapping that dictates the sorting of cards. We overwrite `_map_card` in such a way that it returns `-1` for Jokers (`\"J\"`)."
   ],
   "metadata": {
    "collapsed": false
   }
  },
  {
   "cell_type": "code",
   "execution_count": 14,
   "outputs": [
    {
     "data": {
      "text/plain": "-1"
     },
     "execution_count": 14,
     "metadata": {},
     "output_type": "execute_result"
    }
   ],
   "source": [
    "HandWithJokers._map_card(\"J\")"
   ],
   "metadata": {
    "collapsed": false,
    "ExecuteTime": {
     "end_time": "2023-12-07T19:30:06.219921986Z",
     "start_time": "2023-12-07T19:30:06.031893136Z"
    }
   }
  },
  {
   "cell_type": "markdown",
   "source": [
    "For the changed interpretation of hands, we first count the number of Jacks. In the case of `\"2KJ2K\"`, that would be exactly one. \n",
    "Now we search for the non-jack-card that occurs most often in our hand. If there are multiple cards of equaly high frequency, we want the higher card value.\n",
    "In our example, this would be a pair of kings. Therefore, we turn our Jack into a King (by adding the Jack-count to the King-count). We now have 3 Kings."
   ],
   "metadata": {
    "collapsed": false
   }
  },
  {
   "cell_type": "code",
   "execution_count": 15,
   "outputs": [
    {
     "data": {
      "text/plain": "Counter({'K': 3, '2': 2, 'J': 0})"
     },
     "execution_count": 15,
     "metadata": {},
     "output_type": "execute_result"
    }
   ],
   "source": [
    "example_with_joker = HandWithJokers(\"2KJ2K\")\n",
    "example_with_joker._count_cards()"
   ],
   "metadata": {
    "collapsed": false,
    "ExecuteTime": {
     "end_time": "2023-12-07T19:30:06.220191440Z",
     "start_time": "2023-12-07T19:30:06.031990637Z"
    }
   }
  },
  {
   "cell_type": "markdown",
   "source": [
    "We can take another look at our dataset. Note that there are now two hands with \"Four of a kind\"."
   ],
   "metadata": {
    "collapsed": false
   }
  },
  {
   "cell_type": "code",
   "execution_count": 16,
   "outputs": [
    {
     "name": "stdout",
     "output_type": "stream",
     "text": [
      "Hand: 32T3K (PAIR)\tBet: 765\n",
      "Hand: KK677 (TWO_PAIR)\tBet: 28\n",
      "Hand: T55J5 (FOUR_OF_A_KIND)\tBet: 684\n",
      "Hand: QQQJA (FOUR_OF_A_KIND)\tBet: 483\n",
      "Hand: KTJJT (FOUR_OF_A_KIND)\tBet: 220\n"
     ]
    }
   ],
   "source": [
    "rows = [ (HandWithJokers(hand),int(bet)) for hand, bet in string_rows]   \n",
    "for r in sorted(rows, key=lambda x: x[0]):\n",
    "    print(f\"Hand: {r[0]}\\tBet: {r[1]}\")"
   ],
   "metadata": {
    "collapsed": false,
    "ExecuteTime": {
     "end_time": "2023-12-07T19:30:06.222390590Z",
     "start_time": "2023-12-07T19:30:06.038301465Z"
    }
   }
  },
  {
   "cell_type": "markdown",
   "source": [
    "The rest works as before and we can just get the results."
   ],
   "metadata": {
    "collapsed": false
   }
  },
  {
   "cell_type": "code",
   "execution_count": 17,
   "outputs": [
    {
     "name": "stdout",
     "output_type": "stream",
     "text": [
      "5905\n"
     ]
    }
   ],
   "source": [
    "print(calculate_winnings(rows))"
   ],
   "metadata": {
    "collapsed": false,
    "ExecuteTime": {
     "end_time": "2023-12-07T19:30:06.247144740Z",
     "start_time": "2023-12-07T19:30:06.078613054Z"
    }
   }
  }
 ],
 "metadata": {
  "language_info": {
   "name": "python"
  },
  "kernelspec": {
   "name": "python3",
   "language": "python",
   "display_name": "Python 3 (ipykernel)"
  }
 },
 "nbformat": 4,
 "nbformat_minor": 2
}
