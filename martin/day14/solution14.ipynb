{
 "cells": [
  {
   "cell_type": "code",
   "execution_count": 1,
   "id": "initial_id",
   "metadata": {
    "collapsed": true,
    "ExecuteTime": {
     "end_time": "2023-12-14T20:51:44.614879071Z",
     "start_time": "2023-12-14T20:51:44.571860793Z"
    }
   },
   "outputs": [],
   "source": [
    "with open(\"input.txt\") as fin:\n",
    "    original_lines = [list(row.strip()) for row in fin]"
   ]
  },
  {
   "cell_type": "code",
   "execution_count": 1,
   "outputs": [],
   "source": [],
   "metadata": {
    "collapsed": false,
    "ExecuteTime": {
     "end_time": "2023-12-14T20:51:44.615276933Z",
     "start_time": "2023-12-14T20:51:44.572275550Z"
    }
   },
   "id": "674010e0c1d2ecaf"
  },
  {
   "cell_type": "code",
   "execution_count": 2,
   "outputs": [
    {
     "name": "stdout",
     "output_type": "stream",
     "text": [
      "109385.0\n"
     ]
    }
   ],
   "source": [
    "def count_rocks_after_shift(column):\n",
    "    stack = 0\n",
    "    total_weight = 0\n",
    "    for i in reversed(range(len(column))):\n",
    "        if column[i] == \"#\":\n",
    "           n = len(column)-i\n",
    "           m = stack\n",
    "           additional_weight = (n*(n-1) - (n-m)*(n-m-1))/2\n",
    "           total_weight += additional_weight\n",
    "           stack = 0\n",
    "        elif column[i] == \"O\":\n",
    "            stack += 1\n",
    "    n = len(column)+1\n",
    "    m = stack\n",
    "    additional_weight = (n*(n-1) - (n-m)*(n-m-1))/2\n",
    "    total_weight += additional_weight\n",
    "    return total_weight\n",
    "\n",
    "def weight_rocks(blocks):\n",
    "    transposed_lines = list(zip(*blocks))\n",
    "    return sum(count_rocks_after_shift(c) for c in transposed_lines)\n",
    "\n",
    "print(weight_rocks(original_lines))"
   ],
   "metadata": {
    "collapsed": false,
    "ExecuteTime": {
     "end_time": "2023-12-14T20:51:44.616441092Z",
     "start_time": "2023-12-14T20:51:44.594234114Z"
    }
   },
   "id": "4d32070e7aeab3d8"
  },
  {
   "cell_type": "code",
   "execution_count": 3,
   "outputs": [
    {
     "data": {
      "text/plain": "[[4, 1], [5, 2], [6, 3]]"
     },
     "execution_count": 3,
     "metadata": {},
     "output_type": "execute_result"
    }
   ],
   "source": [
    "def shift_rocks_east(row):\n",
    "    stack = 0\n",
    "    for i in range(len(row)):\n",
    "        if row[i] == \"#\":        \n",
    "           for j in range(1,stack+1):\n",
    "               row[i-j] = \"O\"\n",
    "           stack = 0\n",
    "        elif row[i] == \"O\":\n",
    "            stack += 1\n",
    "            row[i] = \".\"\n",
    "    for j in range(1,stack+1):\n",
    "               row[len(row)-j] = \"O\"\n",
    "    return row\n",
    "\n",
    "def turn_clockwise(block):\n",
    "    width = len(block[0])\n",
    "    height = len(block)\n",
    "    return [[block[height-j][i] for j in range(1,height+1)] for i in range(width)]\n",
    "\n",
    "turn_clockwise([[1,2,3],[4,5,6]])"
   ],
   "metadata": {
    "collapsed": false,
    "ExecuteTime": {
     "end_time": "2023-12-14T20:51:44.701488940Z",
     "start_time": "2023-12-14T20:51:44.625096255Z"
    }
   },
   "id": "5ab05d55cdff12b5"
  },
  {
   "cell_type": "code",
   "execution_count": 4,
   "outputs": [],
   "source": [
    "\n",
    "def cycle(block):\n",
    "    for i in range(4):\n",
    "        block = turn_clockwise(block)\n",
    "        block = [shift_rocks_east(row) for row in block]\n",
    "    return block\n",
    "\n",
    "\n",
    "def count_rocks(block):\n",
    "    width = len(block[0])\n",
    "    s = 0\n",
    "    for i in range(width):\n",
    "        for j in reversed(range(len(block))):\n",
    "            if block[j][i] == \"O\":\n",
    "                s += len(block)-j\n",
    "    return s\n",
    "    \n",
    "\n",
    "block = original_lines\n",
    "history = [block]\n",
    "for i in range(1000000000):\n",
    "    block = cycle(block)\n",
    "    if block in history:\n",
    "        break\n",
    "    else:\n",
    "        history.append(block)\n",
    "        \n",
    "\n",
    "already_occured_in = history.index(block)\n",
    "loop_length = len(history) - already_occured_in\n",
    "remainder = (1000000000 - already_occured_in) % loop_length\n"
   ],
   "metadata": {
    "collapsed": false,
    "ExecuteTime": {
     "end_time": "2023-12-14T20:51:46.340061388Z",
     "start_time": "2023-12-14T20:51:44.676850373Z"
    }
   },
   "id": "c95177b09ee413ff"
  },
  {
   "cell_type": "code",
   "execution_count": 5,
   "outputs": [
    {
     "name": "stdout",
     "output_type": "stream",
     "text": [
      "93102\n"
     ]
    }
   ],
   "source": [
    "block = original_lines\n",
    "for i in range(already_occured_in + remainder):\n",
    "    block = cycle(block)\n",
    "print(count_rocks(block))        "
   ],
   "metadata": {
    "collapsed": false,
    "ExecuteTime": {
     "end_time": "2023-12-14T20:51:47.244888432Z",
     "start_time": "2023-12-14T20:51:46.339134128Z"
    }
   },
   "id": "ca191bf61d3f72cf"
  }
 ],
 "metadata": {
  "kernelspec": {
   "display_name": "Python 3",
   "language": "python",
   "name": "python3"
  },
  "language_info": {
   "codemirror_mode": {
    "name": "ipython",
    "version": 2
   },
   "file_extension": ".py",
   "mimetype": "text/x-python",
   "name": "python",
   "nbconvert_exporter": "python",
   "pygments_lexer": "ipython2",
   "version": "2.7.6"
  }
 },
 "nbformat": 4,
 "nbformat_minor": 5
}
