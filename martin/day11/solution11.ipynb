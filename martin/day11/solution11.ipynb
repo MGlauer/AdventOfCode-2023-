{
 "cells": [
  {
   "cell_type": "markdown",
   "source": [
    "# Day 11\n",
    "\n",
    "Today's solution is a lot less complex than the previous two. First, we store the coordinates of all galaxies:"
   ],
   "metadata": {
    "collapsed": false
   },
   "id": "f592cd5c99a968c1"
  },
  {
   "cell_type": "code",
   "execution_count": 1,
   "id": "initial_id",
   "metadata": {
    "collapsed": true,
    "ExecuteTime": {
     "end_time": "2023-12-11T10:27:21.145827653Z",
     "start_time": "2023-12-11T10:27:21.130071129Z"
    }
   },
   "outputs": [
    {
     "name": "stdout",
     "output_type": "stream",
     "text": [
      "[(3, 0), (7, 1), (0, 2), (6, 4), (1, 5), (9, 6), (7, 8), (0, 9), (4, 9)]\n"
     ]
    }
   ],
   "source": [
    "with open(\"test_input_1.txt\") as fin:\n",
    "    coordinates = [(x,y) for y, line in enumerate(fin) for x, value in enumerate(line.strip()) if value == \"#\"]\n",
    "    \n",
    "print(coordinates)"
   ]
  },
  {
   "cell_type": "markdown",
   "source": [
    "Then, we look for all x-coordinates that do not have a galaxy. Same for y."
   ],
   "metadata": {
    "collapsed": false
   },
   "id": "825eda6bc7500f04"
  },
  {
   "cell_type": "code",
   "execution_count": 2,
   "outputs": [
    {
     "name": "stdout",
     "output_type": "stream",
     "text": [
      "{8, 2, 5}\n",
      "{3, 7}\n"
     ]
    }
   ],
   "source": [
    "\n",
    "xs = {x for x,_ in coordinates}\n",
    "ys = {y for _,y in coordinates}\n",
    "\n",
    "empty_x = set(range(max(xs)+1)).difference(xs)\n",
    "empty_y = set(range(max(ys)+1)).difference(ys)\n",
    "print(empty_x)\n",
    "print(empty_y)"
   ],
   "metadata": {
    "collapsed": false,
    "ExecuteTime": {
     "end_time": "2023-12-11T10:27:21.303953348Z",
     "start_time": "2023-12-11T10:27:21.144896043Z"
    }
   },
   "id": "2cb0035ac78cb3f9"
  },
  {
   "cell_type": "markdown",
   "source": [
    "Instead of eucledian distance, the shortest distance between two galaxies is defined in [Manhattan distance](https://en.wikipedia.org/wiki/Taxicab_geometry). The distance in Manhattan metrics is just defined as \n",
    "\\[ d(a,b) := |a_x - b_x| + |a_y - b_y|\\]\n",
    "or, as we will also calculate the upper and lower bounds of each coordinate:\n",
    "\\[ d(a,b) := max(a_x, b_x)-min(a_x, b_x) + max(a_y, b_y)-min(a_y, b_y) \\]\n",
    "\n",
    "But the galaxies do also grow at the same time (they double, hence $\\mathtt{growth}=2$). Therefore, we need to count the number of empty spaces between the pair."
   ],
   "metadata": {
    "collapsed": false
   },
   "id": "6923053232e9ed99"
  },
  {
   "cell_type": "code",
   "execution_count": 3,
   "outputs": [],
   "source": [
    "def calculate_distance(a, b, growth):\n",
    "    ax, ay = a\n",
    "    bx, by = b\n",
    "    # Calculate upper and lower bounds\n",
    "    x_min = min(ax,bx)\n",
    "    x_max = max(ax,bx)\n",
    "    y_min = min(ay,by)\n",
    "    y_max = max(ay,by)\n",
    "    \n",
    "    # Count the number of galaxy-free spaces between a and b\n",
    "    empty_x_between = sum(growth-1 for x in empty_x if x_min<x<x_max)\n",
    "    empty_y_between = sum(growth-1 for y in empty_y if y_min<y<y_max)\n",
    "    \n",
    "    \n",
    "    # The distance is Manhattan distance + empty spaces\n",
    "    return  x_max-x_min + y_max-y_min  + empty_x_between + empty_y_between\n",
    "    "
   ],
   "metadata": {
    "collapsed": false,
    "ExecuteTime": {
     "end_time": "2023-12-11T10:27:21.304263684Z",
     "start_time": "2023-12-11T10:27:21.185269171Z"
    }
   },
   "id": "5b7b9dbf2a98d626"
  },
  {
   "cell_type": "code",
   "execution_count": 4,
   "outputs": [
    {
     "name": "stdout",
     "output_type": "stream",
     "text": [
      "374\n"
     ]
    }
   ],
   "source": [
    "from itertools import combinations\n",
    "\n",
    "solution = sum(calculate_distance(a,b, 2) for a,b in combinations(coordinates, r=2))\n",
    "print(solution)"
   ],
   "metadata": {
    "collapsed": false,
    "ExecuteTime": {
     "end_time": "2023-12-11T10:27:21.322821596Z",
     "start_time": "2023-12-11T10:27:21.185483084Z"
    }
   },
   "id": "64e55b6fcf9692eb"
  },
  {
   "cell_type": "markdown",
   "source": [
    "## Part 2\n",
    "\n",
    "For part 2, we just need to change the growth value"
   ],
   "metadata": {
    "collapsed": false
   },
   "id": "555d6aceac90c720"
  },
  {
   "cell_type": "code",
   "execution_count": 5,
   "outputs": [
    {
     "name": "stdout",
     "output_type": "stream",
     "text": [
      "1030\n"
     ]
    }
   ],
   "source": [
    "solution = sum(calculate_distance(a,b, 10) for a,b in combinations(coordinates, r=2))\n",
    "print(solution)"
   ],
   "metadata": {
    "collapsed": false,
    "ExecuteTime": {
     "end_time": "2023-12-11T10:27:21.323250743Z",
     "start_time": "2023-12-11T10:27:21.229190045Z"
    }
   },
   "id": "c85f123bbf911ec3"
  },
  {
   "cell_type": "code",
   "execution_count": 6,
   "outputs": [
    {
     "name": "stdout",
     "output_type": "stream",
     "text": [
      "8410\n"
     ]
    }
   ],
   "source": [
    "solution = sum(calculate_distance(a,b, 100) for a,b in combinations(coordinates, r=2))\n",
    "print(solution)"
   ],
   "metadata": {
    "collapsed": false,
    "ExecuteTime": {
     "end_time": "2023-12-11T10:27:21.323550182Z",
     "start_time": "2023-12-11T10:27:21.229380763Z"
    }
   },
   "id": "f2b977d5b0958280"
  },
  {
   "cell_type": "code",
   "execution_count": 7,
   "outputs": [
    {
     "name": "stdout",
     "output_type": "stream",
     "text": [
      "82000210\n"
     ]
    }
   ],
   "source": [
    "solution = sum(calculate_distance(a,b, 1000000) for a,b in combinations(coordinates, r=2))\n",
    "print(solution)"
   ],
   "metadata": {
    "collapsed": false,
    "ExecuteTime": {
     "end_time": "2023-12-11T10:27:21.324049786Z",
     "start_time": "2023-12-11T10:27:21.236391756Z"
    }
   },
   "id": "7794fe8a076aed7b"
  }
 ],
 "metadata": {
  "kernelspec": {
   "display_name": "Python 3",
   "language": "python",
   "name": "python3"
  },
  "language_info": {
   "codemirror_mode": {
    "name": "ipython",
    "version": 2
   },
   "file_extension": ".py",
   "mimetype": "text/x-python",
   "name": "python",
   "nbconvert_exporter": "python",
   "pygments_lexer": "ipython2",
   "version": "2.7.6"
  }
 },
 "nbformat": 4,
 "nbformat_minor": 5
}
