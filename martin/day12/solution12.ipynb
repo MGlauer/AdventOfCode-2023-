{
 "cells": [
  {
   "cell_type": "code",
   "execution_count": 1,
   "id": "9591c93b99d7e18",
   "metadata": {
    "collapsed": true,
    "ExecuteTime": {
     "end_time": "2023-12-12T09:52:01.513973265Z",
     "start_time": "2023-12-12T09:52:01.505207416Z"
    }
   },
   "outputs": [],
   "source": [
    "def read_row(row):\n",
    "    springs, patch_string = row.split(\" \")\n",
    "    return springs, [int(n) for n in patch_string.split(\",\")]\n",
    "\n",
    "with open(\"test_input_1.txt\") as fin:\n",
    "    rows = [read_row(row) for row in fin]"
   ]
  },
  {
   "cell_type": "code",
   "execution_count": 2,
   "outputs": [],
   "source": [
    " \n",
    "def patch_to_automaton(patches):\n",
    "\n",
    "    transitions = []\n",
    "    s = 0\n",
    "    transitions += [(s,\".\", s), (s,\"?\", s)]\n",
    "    \n",
    "    for i, p in enumerate(patches):\n",
    "        for _ in range(p):\n",
    "            transitions += [(s,\"?\", s+1), (s,\"#\", s+1)]\n",
    "            s+=1\n",
    "        if i < len(patches)-1:\n",
    "            transitions += [(s,\"?\", s+1), (s,\".\", s+1)]\n",
    "            s+=1\n",
    "        transitions += [(s,\"?\", s), (s,\".\", s)]\n",
    "    pairs = {(a,b) for (a,b,_) in transitions}\n",
    "    return {(a,b):[c for (x,y,c) in transitions if x==a and y==b] for a,b in pairs}, s"
   ],
   "metadata": {
    "collapsed": false,
    "ExecuteTime": {
     "end_time": "2023-12-12T09:52:01.534460982Z",
     "start_time": "2023-12-12T09:52:01.515666213Z"
    }
   },
   "id": "45bb2b0353e9be9e"
  },
  {
   "cell_type": "code",
   "execution_count": 3,
   "outputs": [],
   "source": [
    "example_transitions, example_final_state = patch_to_automaton([3,2,1])\n",
    "example_string = \"?###????????\""
   ],
   "metadata": {
    "collapsed": false,
    "ExecuteTime": {
     "end_time": "2023-12-12T09:52:01.618902881Z",
     "start_time": "2023-12-12T09:52:01.527489535Z"
    }
   },
   "id": "e89795055e5fa175"
  },
  {
   "cell_type": "code",
   "execution_count": 4,
   "outputs": [
    {
     "data": {
      "text/plain": "10"
     },
     "execution_count": 4,
     "metadata": {},
     "output_type": "execute_result"
    }
   ],
   "source": [
    "\n",
    "def apply_transition(string, states, transitions, count):\n",
    "    reachable = [(t,i) for s,i in states for t in transitions.get((s, string), set())]\n",
    "    new_states = {s for s,_ in reachable}\n",
    "    return {(s, sum(a for t,a in reachable if s == t)) for s in new_states}\n",
    "    \n",
    "def run_automaton(string, transitions, final_state):\n",
    "    states = {(0,1)}\n",
    "    for char in string:\n",
    "        states = apply_transition(char,states, transitions, 0)  \n",
    "    result = sum(a for s,a in states if s == final_state)\n",
    "    return result\n",
    "\n",
    "run_automaton(example_string, example_transitions, example_final_state)"
   ],
   "metadata": {
    "collapsed": false,
    "ExecuteTime": {
     "end_time": "2023-12-12T09:52:01.620265258Z",
     "start_time": "2023-12-12T09:52:01.564843518Z"
    }
   },
   "id": "a8532650e47aa1c7"
  },
  {
   "cell_type": "code",
   "execution_count": 5,
   "outputs": [],
   "source": [
    "def get_solutions(rows):\n",
    "    for string, patches in rows:\n",
    "        transitions, final_state = patch_to_automaton(patches)\n",
    "        yield run_automaton(string, transitions, final_state)"
   ],
   "metadata": {
    "collapsed": false,
    "ExecuteTime": {
     "end_time": "2023-12-12T09:52:01.664054991Z",
     "start_time": "2023-12-12T09:52:01.585231343Z"
    }
   },
   "id": "initial_id"
  },
  {
   "cell_type": "code",
   "execution_count": 6,
   "outputs": [
    {
     "name": "stdout",
     "output_type": "stream",
     "text": [
      "21\n"
     ]
    }
   ],
   "source": [
    "print(sum(get_solutions(rows)))"
   ],
   "metadata": {
    "collapsed": false,
    "ExecuteTime": {
     "end_time": "2023-12-12T09:52:01.664617196Z",
     "start_time": "2023-12-12T09:52:01.628654933Z"
    }
   },
   "id": "6f1aed4c52aa0504"
  },
  {
   "cell_type": "code",
   "execution_count": 7,
   "outputs": [
    {
     "name": "stdout",
     "output_type": "stream",
     "text": [
      "525152\n"
     ]
    }
   ],
   "source": [
    "def read_row2(row):\n",
    "    springs, patch_string = row.split(\" \")\n",
    "    return \"?\".join([springs for _ in range(5)]), [int(n) for _ in range(5) for n in patch_string.split(\",\")]\n",
    "\n",
    "with open(\"test_input_1.txt\") as fin:\n",
    "    rows = [read_row2(row) for row in fin]\n",
    "    \n",
    "print(sum(get_solutions(rows)))"
   ],
   "metadata": {
    "collapsed": false,
    "ExecuteTime": {
     "end_time": "2023-12-12T09:52:01.728314866Z",
     "start_time": "2023-12-12T09:52:01.629552238Z"
    }
   },
   "id": "7eb818d18915233"
  }
 ],
 "metadata": {
  "kernelspec": {
   "display_name": "Python 3",
   "language": "python",
   "name": "python3"
  },
  "language_info": {
   "codemirror_mode": {
    "name": "ipython",
    "version": 2
   },
   "file_extension": ".py",
   "mimetype": "text/x-python",
   "name": "python",
   "nbconvert_exporter": "python",
   "pygments_lexer": "ipython2",
   "version": "2.7.6"
  }
 },
 "nbformat": 4,
 "nbformat_minor": 5
}
