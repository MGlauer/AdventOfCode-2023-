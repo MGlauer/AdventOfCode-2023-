{
  "cells": [
    {
      "cell_type": "markdown",
      "metadata": {
        "id": "CLlv27ur4APF"
      },
      "source": [
        "# Day 6"
      ]
    },
    {
      "cell_type": "code",
      "execution_count": 10,
      "metadata": {
        "colab": {
          "base_uri": "https://localhost:8080/"
        },
        "id": "Rv-HqK3m5oZb",
        "outputId": "a220487e-d7cb-482c-e950-7e1a04480828"
      },
      "outputs": [
        {
          "name": "stdout",
          "output_type": "stream",
          "text": [
            "[(7, 9), (15, 40), (30, 200)]\n",
            "[[71530, 940200]]\n"
          ]
        }
      ],
      "source": [
        "import re\n",
        "import math\n",
        "\n",
        "with open(\"input6.txt\") as fin:\n",
        "    lines = list(fin)\n",
        "\n",
        "    races1 = list(zip(*([int(x) for x in re.findall(\"\\d+\", line)] for line in lines)))\n",
        "    races2 = [[int(\"\".join([x for num in re.findall(\"\\d+\", line) for x in num])) for line in lines]]\n",
        "\n",
        "print(races1)\n",
        "print(races2)"
      ]
    },
    {
      "cell_type": "markdown",
      "metadata": {
        "id": "B8HXJQxU6w_n"
      },
      "source": [
        "Given are races of duration $t_{max}$ and a record distance $s_{rec}$. We need to exceed the record distance. Distance is the product of speed and velocity:\n",
        "$$ s = v \\cdot t $$\n",
        "\n",
        "For each ms, that we press the button, our boat'sspeed increases by 1 mm/ms and therefore $ v = t_{press}  $.\n",
        "But here, the time is limited by the race time $t_{max}$ and also, the boat does not move for the time we press the button and therefore $ t = t_{max} - t_{press}$. Combining both yields\n",
        "\n",
        "$$ s = t_{press} \\cdot (t_{max} - t_{press}) $$\n",
        "\n",
        "or expressed differently:\n",
        "\n",
        "$$ 0 = t_{press}^2 + t_{press}t_{max} -s $$\n",
        "\n",
        "We can use the [well-kown formula to solve quadratic equations](https://en.wikipedia.org/wiki/Quadratic_equation#Reduced_quadratic_equation) to solve it.\n",
        "\n",
        "$$ t_{press} = \\frac{t_{max}}{2} \\pm \\sqrt{\\frac{t_{max}^2}{4} - s} $$\n",
        "\n",
        "**Note:** This formula yields the times at which we are equal to the record distance. We need to be **better** than the record! Therefore, if our solutions are exact milliseconds, we need to take the next integer (or previous for the upper bound)."
      ]
    },
    {
      "cell_type": "code",
      "execution_count": 11,
      "metadata": {
        "id": "CKEGN1CD6l6c"
      },
      "outputs": [],
      "source": [
        "\n",
        "def solve_race(races):\n",
        "    res = 1\n",
        "    for (t, s) in races:\n",
        "        # Lower bound\n",
        "        t0 = t/2 - ((t/2)**2 - s)**0.5\n",
        "\n",
        "        # Upper bound\n",
        "        t1 = t/2 + ((t/2)**2 - s)**0.5\n",
        "\n",
        "        # If the lower bound is exact, take the next one\n",
        "        if t0.is_integer():\n",
        "            t0 += 1\n",
        "\n",
        "        # If the upper bound is exact, take the previous one\n",
        "        if t1.is_integer():\n",
        "            t1 -= 1\n",
        "\n",
        "        # Calculate the number of solutions\n",
        "        ways = math.floor(t1) - math.ceil(t0) +1\n",
        "\n",
        "        # And multiply the results\n",
        "        res *= ways\n",
        "\n",
        "    return res"
      ]
    },
    {
      "cell_type": "code",
      "execution_count": 12,
      "metadata": {
        "colab": {
          "base_uri": "https://localhost:8080/"
        },
        "id": "0IhsbZL96owk",
        "outputId": "1ce087f5-2eac-4716-b727-2c939b1b6f5a"
      },
      "outputs": [
        {
          "name": "stdout",
          "output_type": "stream",
          "text": [
            "Solution for task 1: 288\n",
            "Solution for task 2: 71503\n"
          ]
        }
      ],
      "source": [
        "print(\"Solution for task 1:\", solve_race(races1))\n",
        "print(\"Solution for task 2:\", solve_race(races2))"
      ]
    }
  ],
  "metadata": {
    "colab": {
      "collapsed_sections": [
        "toHCxQ_RrVJJ"
      ],
      "provenance": [],
      "toc_visible": true
    },
    "kernelspec": {
      "display_name": "Python 3",
      "name": "python3"
    },
    "language_info": {
      "name": "python"
    }
  },
  "nbformat": 4,
  "nbformat_minor": 0
}
