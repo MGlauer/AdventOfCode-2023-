{
  "nbformat": 4,
  "nbformat_minor": 0,
  "metadata": {
    "colab": {
      "provenance": [],
      "collapsed_sections": [
        "toHCxQ_RrVJJ"
      ],
      "toc_visible": true
    },
    "kernelspec": {
      "name": "python3",
      "display_name": "Python 3"
    },
    "language_info": {
      "name": "python"
    }
  },
  "cells": [
    {
      "cell_type": "markdown",
      "source": [],
      "metadata": {
        "id": "4XeLKyQtrBJC"
      }
    },
    {
      "cell_type": "markdown",
      "source": [
        "# Day 5"
      ],
      "metadata": {
        "id": "toHCxQ_RrVJJ"
      }
    },
    {
      "cell_type": "markdown",
      "source": [
        "This is merely plumbing. We need to write a file before we can use it. Yay, Colab!"
      ],
      "metadata": {
        "id": "ciNYAtgh6aG3"
      }
    },
    {
      "cell_type": "code",
      "source": [
        "with open(\"test_input5.txt\", \"wt\") as fout:\n",
        "  fout.write(\n",
        "\"\"\"seeds: 79 14 55 13\n",
        "\n",
        "seed-to-soil map:\n",
        "50 98 2\n",
        "52 50 48\n",
        "\n",
        "soil-to-fertilizer map:\n",
        "0 15 37\n",
        "37 52 2\n",
        "39 0 15\n",
        "\n",
        "fertilizer-to-water map:\n",
        "49 53 8\n",
        "0 11 42\n",
        "42 0 7\n",
        "57 7 4\n",
        "\n",
        "water-to-light map:\n",
        "88 18 7\n",
        "18 25 70\n",
        "\n",
        "light-to-temperature map:\n",
        "45 77 23\n",
        "81 45 19\n",
        "68 64 13\n",
        "\n",
        "temperature-to-humidity map:\n",
        "0 69 1\n",
        "1 0 69\n",
        "\n",
        "humidity-to-location map:\n",
        "60 56 37\n",
        "56 93 4\"\"\")"
      ],
      "metadata": {
        "id": "Tlp2itLgml6K"
      },
      "execution_count": null,
      "outputs": []
    },
    {
      "cell_type": "markdown",
      "source": [
        "Now we can start. First, let's have a look at our test file"
      ],
      "metadata": {
        "id": "Y5Ir1Lg-sUjE"
      }
    },
    {
      "cell_type": "code",
      "execution_count": null,
      "metadata": {
        "colab": {
          "base_uri": "https://localhost:8080/"
        },
        "id": "XGvgoOTZq80L",
        "outputId": "ca1062a9-0945-4163-fc95-43d7719c4f70"
      },
      "outputs": [
        {
          "output_type": "stream",
          "name": "stdout",
          "text": [
            "seeds: 79 14 55 13\n",
            "\n",
            "\n",
            "\n",
            "seed-to-soil map:\n",
            "\n",
            "50 98 2\n",
            "\n",
            "52 50 48\n",
            "\n",
            "\n",
            "\n",
            "soil-to-fertilizer map:\n",
            "\n",
            "0 15 37\n",
            "\n",
            "37 52 2\n",
            "\n",
            "39 0 15\n",
            "\n",
            "\n",
            "\n",
            "fertilizer-to-water map:\n",
            "\n",
            "49 53 8\n",
            "\n",
            "0 11 42\n",
            "\n",
            "42 0 7\n",
            "\n",
            "57 7 4\n",
            "\n",
            "\n",
            "\n",
            "water-to-light map:\n",
            "\n",
            "88 18 7\n",
            "\n",
            "18 25 70\n",
            "\n",
            "\n",
            "\n",
            "light-to-temperature map:\n",
            "\n",
            "45 77 23\n",
            "\n",
            "81 45 19\n",
            "\n",
            "68 64 13\n",
            "\n",
            "\n",
            "\n",
            "temperature-to-humidity map:\n",
            "\n",
            "0 69 1\n",
            "\n",
            "1 0 69\n",
            "\n",
            "\n",
            "\n",
            "humidity-to-location map:\n",
            "\n",
            "60 56 37\n",
            "\n",
            "56 93 4\n"
          ]
        }
      ],
      "source": [
        "import re\n",
        "\n",
        "with open(\"test_input5.txt\") as fin:\n",
        "  lines = list(fin)\n",
        "\n",
        "print(\"\\n\".join(lines))"
      ]
    },
    {
      "cell_type": "markdown",
      "source": [
        "The fistst line contains a number of integers representing seeds. We need to extract those. We start by taking the first line and spliting it by its spaces."
      ],
      "metadata": {
        "id": "V053cB13sbj0"
      }
    },
    {
      "cell_type": "code",
      "source": [
        "seeds = lines[0].split(\" \")[1:]\n",
        "\n",
        "print(\"Seed strings:\", seeds)\n",
        "seeds = [int(s) for s in seeds]"
      ],
      "metadata": {
        "colab": {
          "base_uri": "https://localhost:8080/"
        },
        "id": "zmcAp7btsrCz",
        "outputId": "8cc02374-3024-4409-c432-8871c418c04a"
      },
      "execution_count": null,
      "outputs": [
        {
          "output_type": "stream",
          "name": "stdout",
          "text": [
            "Seed strings: ['79', '14', '55', '13\\n']\n"
          ]
        }
      ]
    },
    {
      "cell_type": "markdown",
      "source": [
        "Now we iterate the remainder of the file which contains of a number of blocks that follow the pattern\n",
        "\n",
        "```\n",
        "[map-source]-to-[map-target] map:\n",
        "[target] [source] [range]\n",
        "[target] [source] [range]\n",
        "```"
      ],
      "metadata": {
        "id": "qh2S9eIwtuMv"
      }
    },
    {
      "cell_type": "code",
      "source": [
        "blocks = \"\".join(lines[1:]).split(\"\\n\\n\")\n",
        "print(\"Messy blocks:\", [blocks[1]])\n",
        "\n",
        "blocks = [block.strip().split(\"\\n\") for block in blocks]\n",
        "print(\"Better blocks:\", blocks[0])"
      ],
      "metadata": {
        "colab": {
          "base_uri": "https://localhost:8080/"
        },
        "id": "Zl1rBoB9tdKm",
        "outputId": "a597039f-d275-4ccb-d587-9422a4d7aa0f"
      },
      "execution_count": null,
      "outputs": [
        {
          "output_type": "stream",
          "name": "stdout",
          "text": [
            "Messy blocks: ['soil-to-fertilizer map:\\n0 15 37\\n37 52 2\\n39 0 15']\n",
            "Better blocks: ['seed-to-soil map:', '50 98 2', '52 50 48']\n"
          ]
        }
      ]
    },
    {
      "cell_type": "markdown",
      "source": [
        "An explaination for this particular regex can be found here: https://regex101.com/r/bcKZ8f/1"
      ],
      "metadata": {
        "id": "V5Woe41vwWRg"
      }
    },
    {
      "cell_type": "code",
      "source": [
        "def header_to_map(line):\n",
        "  header_regex = r\"^(?P<source>[^-]+)-to-(?P<target>[^-]+) map\"\n",
        "  match = re.match(header_regex, line)\n",
        "  return (match.group(\"source\"), match.group(\"target\"))\n",
        "\n",
        "print(header_to_map(\"seed-to-soil map:\"))"
      ],
      "metadata": {
        "colab": {
          "base_uri": "https://localhost:8080/"
        },
        "id": "ZOo5qZ1wvoFp",
        "outputId": "53c6c97b-54b4-4983-de1c-5082bcc1e0dd"
      },
      "execution_count": null,
      "outputs": [
        {
          "output_type": "stream",
          "name": "stdout",
          "text": [
            "('seed', 'soil')\n"
          ]
        }
      ]
    },
    {
      "cell_type": "markdown",
      "source": [
        "The ranges are representet as homogenous triples - we can just parse them as-is. For convenience, we switch source and target of these mappings."
      ],
      "metadata": {
        "id": "LUDU0BfInVuK"
      }
    },
    {
      "cell_type": "code",
      "source": [
        "def ranges_to_mappings(line):\n",
        "  target_start, source_start, mapping_range = map(int, line.split(\" \"))\n",
        "  return source_start, target_start, mapping_range\n",
        "\n",
        "print(ranges_to_mappings(\"50 98 2\"))\n",
        "print(ranges_to_mappings(\"52 50 48\"))"
      ],
      "metadata": {
        "colab": {
          "base_uri": "https://localhost:8080/"
        },
        "id": "4_yKlkW8x9l-",
        "outputId": "c0c714c9-abd7-4119-f6c1-fcfc60244e0c"
      },
      "execution_count": null,
      "outputs": [
        {
          "output_type": "stream",
          "name": "stdout",
          "text": [
            "(98, 50, 2)\n",
            "(50, 52, 48)\n"
          ]
        }
      ]
    },
    {
      "cell_type": "markdown",
      "source": [
        "Next, we combine the previous two functions to create a new mapping\n",
        "$kind_{from} \\rightarrow (kind_{to}, ranges)$"
      ],
      "metadata": {
        "id": "zHBKjEs-oMai"
      }
    },
    {
      "cell_type": "code",
      "source": [
        "def translate_block_to_mapping(block):\n",
        "  # Parse the first line of the block as mapping header\n",
        "  mapping_pair = header_to_map(block[0])\n",
        "\n",
        "  # parse the remainder as mapping pairs k -> v\n",
        "  mappings = [ranges_to_mappings(l) for l in block[1:]]\n",
        "  return mapping_pair[0], (mapping_pair[1], mappings)\n",
        "\n",
        "print(\"Block:\", blocks[0])\n",
        "print(\"Translated block:\", translate_block_to_mapping(blocks[0]))\n",
        "\n",
        "mappings = dict([translate_block_to_mapping(b) for b in blocks])\n",
        "print(mappings)"
      ],
      "metadata": {
        "colab": {
          "base_uri": "https://localhost:8080/"
        },
        "id": "KMcg-WhnzAbW",
        "outputId": "96118c62-b715-41c2-b0df-103480f1441d"
      },
      "execution_count": null,
      "outputs": [
        {
          "output_type": "stream",
          "name": "stdout",
          "text": [
            "Block: ['seed-to-soil map:', '50 98 2', '52 50 48']\n",
            "Translated block: ('seed', ('soil', [(98, 50, 2), (50, 52, 48)]))\n",
            "{'seed': ('soil', [(98, 50, 2), (50, 52, 48)]), 'soil': ('fertilizer', [(15, 0, 37), (52, 37, 2), (0, 39, 15)]), 'fertilizer': ('water', [(53, 49, 8), (11, 0, 42), (0, 42, 7), (7, 57, 4)]), 'water': ('light', [(18, 88, 7), (25, 18, 70)]), 'light': ('temperature', [(77, 45, 23), (45, 81, 19), (64, 68, 13)]), 'temperature': ('humidity', [(69, 0, 1), (0, 1, 69)]), 'humidity': ('location', [(56, 60, 37), (93, 56, 4)])}\n"
          ]
        }
      ]
    },
    {
      "cell_type": "markdown",
      "source": [
        "Here comes the tricky part. A straight-forward solution does not work with this problem, as the data tends to become huge. Therefore, we need a more elaborate strategy. In fact, we will retain the strange list representation that this task introduced.\n",
        "\n",
        "The idea is as follows: Any given mappings applies to ranges of numbers (in part 1, these ranges are only single integers). Therefore, we need to only map those numbers, that are affected by this mapping. The problem: There are different kinds of interactions between ranges. More precisely, we are interested in three parts of our range:\n",
        "\n",
        "1. The part that lies before the mapping\n",
        "2. The part that oberlaps with the mapping\n",
        "3. The part that lies after the mapping\n",
        "\n",
        "An example: A range $A=(a, r_a)=(3,5)$ represents the list of 5 integers that starts at 3, i.e. $[3,4,5,6,7]$ (the functions `unfold_interval`and `print_test` exist solely to transfer the results into a more readable form).\n",
        "\n",
        "Now imagine that there is a second range $B=(b,r_b)$. There are 6 different scenarios for depending on its exact location:\n",
        "\n",
        "* $B$ strictly before $A$:\n",
        "  * e.g. $B=(1,1)$\n",
        "  * Parts of A before B: None\n",
        "  * Parts of A within B: None\n",
        "  * Parts of A after B: $[3,4,5,6,7]$\n",
        "* $B$ starts before, but ends in $A$\n",
        "  * e.g. $B=(1,3)$\n",
        "  * Parts of A before B: None\n",
        "  * Parts of A within B: $[3]$\n",
        "  * Parts of A after B: $[4,5,6,7]$\n",
        "* $B$ starts before, but ends after $A$:\n",
        "  * e.g. $B=(1,9)$\n",
        "  * Parts of A before B: None\n",
        "  * Parts of A within B: $[3,4,5,6,7]$\n",
        "  * Parts of A after B: None\n",
        "* $B$ starts within $A$ and ends in $A$:\n",
        "  * e.g. $B=(4,2)$\n",
        "  * Parts of A before B: $[3]$\n",
        "  * Parts of A within B: $[4,5]$\n",
        "  * Parts of A after B: $[6,7]$\n",
        "* $B$ starts within $A$ and ends after $A$:\n",
        "  * e.g. $B=(4,5)$\n",
        "  * Parts of A before B: $[3]$\n",
        "  * Parts of A within B: $[4,5,6,7]$\n",
        "  * Parts of A after B: None\n",
        "* $B$ starts after $A$.\n",
        "  * e.g. $B=(8,1)$\n",
        "  * Parts of A before B: $[3,4,5,6,7]$\n",
        "  * Parts of A within B: None\n",
        "  * Parts of A after B: None\n"
      ],
      "metadata": {
        "id": "ZZ2WJQL71NnR"
      }
    },
    {
      "cell_type": "code",
      "source": [
        "def unfold_interval(s):\n",
        "  if s is None:\n",
        "    return []\n",
        "  a, b = s\n",
        "  return list(range(a,a+b))\n",
        "\n",
        "def intersect_intervalls(a, b):\n",
        "  a, ra = a\n",
        "  b, rb = b\n",
        "  if b<= a:\n",
        "    # B starts before A ...\n",
        "    if b+rb <= a:\n",
        "      # ... and ends before A\n",
        "      return None, None, (a, ra)\n",
        "    else:\n",
        "      if b+rb < a+ra:\n",
        "        # ... and ends within A\n",
        "        return None, (a,rb-(a-b)), (b+rb,a+ra-b-rb)\n",
        "      else:\n",
        "        # ... and ends after A\n",
        "        return None, (a, ra), None\n",
        "  else:\n",
        "    if a+ra <= b:\n",
        "        # B starts after A\n",
        "        return (a,ra), None, None\n",
        "    else:\n",
        "        # B starts within A ...\n",
        "        if a+ra < b+rb:\n",
        "          # ... and ends after A\n",
        "          return (a, b-a), (b, ra-(b-a)), None\n",
        "        else:\n",
        "          # ... and ends within A\n",
        "          return (a, b-a), (b,rb), (b+rb, ra-(b-a)-rb)\n",
        "\n",
        "def print_test(a,b):\n",
        "  l, m, r = map(unfold_interval, intersect_intervalls(a,b))\n",
        "  ua = unfold_interval(a)\n",
        "  assert l+m+r == ua, \"{} != {}\".format(l+m+r, ua)\n",
        "  print(ua, \"overlapped with \", unfold_interval(b),)\n",
        "  print(\"\\tBefore:\", l, \"Overlap:\", m, \"After:\", r)\n",
        "  print(\"\")\n",
        "\n",
        "print_test((3,5), (1,1))\n",
        "print_test((3,5), (1,3))\n",
        "print_test((3,5), (1,9))\n",
        "print_test((3,5), (4,2))\n",
        "print_test((3,5), (4,5))\n",
        "print_test((3,5), (8,1))\n",
        "\n"
      ],
      "metadata": {
        "colab": {
          "base_uri": "https://localhost:8080/"
        },
        "id": "8UTxC30qc9aU",
        "outputId": "3d6df705-4014-4f9c-df90-b573fa2f3cb2"
      },
      "execution_count": null,
      "outputs": [
        {
          "output_type": "stream",
          "name": "stdout",
          "text": [
            "[3, 4, 5, 6, 7] overlapped with  [1]\n",
            "\tBefore: [] Overlap: [] After: [3, 4, 5, 6, 7]\n",
            "\n",
            "[3, 4, 5, 6, 7] overlapped with  [1, 2, 3]\n",
            "\tBefore: [] Overlap: [3] After: [4, 5, 6, 7]\n",
            "\n",
            "[3, 4, 5, 6, 7] overlapped with  [1, 2, 3, 4, 5, 6, 7, 8, 9]\n",
            "\tBefore: [] Overlap: [3, 4, 5, 6, 7] After: []\n",
            "\n",
            "[3, 4, 5, 6, 7] overlapped with  [4, 5]\n",
            "\tBefore: [3] Overlap: [4, 5] After: [6, 7]\n",
            "\n",
            "[3, 4, 5, 6, 7] overlapped with  [4, 5, 6, 7, 8]\n",
            "\tBefore: [3] Overlap: [4, 5, 6, 7] After: []\n",
            "\n",
            "[3, 4, 5, 6, 7] overlapped with  [8]\n",
            "\tBefore: [3, 4, 5, 6, 7] Overlap: [] After: []\n",
            "\n"
          ]
        }
      ]
    },
    {
      "cell_type": "markdown",
      "source": [
        "And now we need to apply this mappings. This is best explained by example. Let's say we have a given range $A=(3,20) = [3,...,22]$ and mappings (sorted by starting point):\n",
        "* $B_0= (1,1)\\mapsto 99$\n",
        "* $B_1=(2,3) \\mapsto 15$ (maps $[2,3,4]$ to $[15, 16, 17]$)\n",
        "* $B_2=(10,2) \\mapsto 2$. (maps $[10,11]$ to $[2,3]$)\n",
        "* $B_3=(15,31) \\mapsto 2$. (maps $[15,16,...,45]$ to $[2,3,...,32]$)\n",
        "\n",
        "We start our process with our range.\n",
        "1. We consider mapping $B_0$ and see that it does not overlap -- skip.  \n",
        "2. We consider mapping $B_1$ and see that it does overlap with $A$ in $[3,4]$ we therefore map this interval to $[16, 17]=(16,2)$ and store it. There is no left remainder, but the right remainder of $A$ is $A' := (5,18) = [5,...,22]$. We continue with that remainder.\n",
        "3. We consider mapping $B_2$ and see that it overlaps with $A'$ in $(10,2)=[10,11]$.  The left remainder of $A'$ is $[5,6,7,8,9] = (5,5)$ and can be stored unchanged. We map the overlap interval to $[2, 3]=(2,1)$. The right remainder of $A'$ is $A'' := (12,11) = [12,...,22]$. We continue with that remainder.\n",
        "4. We consider mapping $B$ and see that is does overlap and end after $A''$. It is, therefore, the last range we have to consider. The left remainder is $(12,3)=[12,13,14]$ and the overlap is $(15,7) = [15,...,22]$. We map this overlap to $(2,7) = [2,...,9]$\n",
        "\n",
        "Finally, we are done and have these new ranges:\n",
        "$$(16,2), (5,5), (2,1), (12,3), (2,7)$$\n",
        "which corresponds to the following numbers:\n",
        "$$ \\{ 2,3,4,5,6,7,8,9,12,13,14,16,17 \\} $$\n",
        "\n",
        "More concretely, the mapping did the following:\n",
        "\n",
        "|3|4|5|6|7|8|9|10|11|12|13|14|15|16|17|18|19|20|21|22|\n",
        "|---|---|---|---|---|---|---|---|---|---|---|---|---|---|---|---|---|---|---|---|\n",
        "| $B_1$  |$B_1$||||||$B_2$|$B_2$||||$B_3$|$B_3$|$B_3$|$B_3$|$B_3$|$B_3$|$B_3$|$B_3$|\n",
        "|16|17|5|6|7|8|9|2|3|12|13|14|2|3|4|5|6|7|8|9\n",
        "\n",
        "*Note*: We could obviously simplify the ranges to $(2,8)$ and $(12,5)$, but we are lazy and don't do that."
      ],
      "metadata": {
        "id": "_gikjCIAv4q7"
      }
    },
    {
      "cell_type": "code",
      "source": [
        "def get_minimal_location(ranges):\n",
        "  kind = \"seed\"\n",
        "  while kind != \"location\":\n",
        "    kind, mapping = mappings[kind]\n",
        "    new_ranges = []\n",
        "    for a, ra in ranges:\n",
        "      matched = False\n",
        "      # We sort mappings my starting point\n",
        "      for b, target, rb in sorted(mapping, key=lambda x: x[0]):\n",
        "        # Calculate left remainder (l), overlap (m) and right remainder (r)\n",
        "        l,m,r = intersect_intervalls((a, ra), (b, rb))\n",
        "        if m: # Does it overlap?\n",
        "          matched = True\n",
        "          if l:\n",
        "            # If there is a left remainder, store it unchanged\n",
        "            new_ranges.append(l)\n",
        "          # Apply the map to the overlap and store it\n",
        "          mapped_fraction = (target-b+m[0], m[1])\n",
        "          new_ranges.append(mapped_fraction)\n",
        "          if r:\n",
        "              # If there is a right remainder, use this for further checks\n",
        "              a, ra = r\n",
        "      if not matched:\n",
        "        # If nothing matched or we are done,\n",
        "        new_ranges.append((a,ra))\n",
        "    ranges = new_ranges\n",
        "\n",
        "  # The range with the smallest start is our solution.\n",
        "  values = list(sorted(new_ranges, key=lambda x: x[0]))\n",
        "  return values[0][0]"
      ],
      "metadata": {
        "id": "73t9_BwnaRy4"
      },
      "execution_count": null,
      "outputs": []
    },
    {
      "cell_type": "code",
      "source": [
        "seed_pairs = [(s, 1) for s in seeds]\n",
        "print(\"The lowest location according to task 1 is:\", get_minimal_location(seed_pairs))\n",
        "seed_pairs = list(zip(seeds[::2], seeds[1::2]))\n",
        "print(\"The lowest location according to task 2 is:\", get_minimal_location(seed_pairs))"
      ],
      "metadata": {
        "colab": {
          "base_uri": "https://localhost:8080/"
        },
        "id": "Z0DsH6QCD_1H",
        "outputId": "30563b63-ccb8-4cc8-f232-f078462e25cc"
      },
      "execution_count": null,
      "outputs": [
        {
          "output_type": "stream",
          "name": "stdout",
          "text": [
            "The lowest location according to task 1 is: 2\n",
            "The lowest location according to task 2 is: 0\n"
          ]
        }
      ]
    },
    {
      "cell_type": "markdown",
      "source": [
        "# Day 6"
      ],
      "metadata": {
        "id": "CLlv27ur4APF"
      }
    },
    {
      "cell_type": "code",
      "source": [
        "with open(\"input6.txt\", \"wt\") as fout:\n",
        "  fout.write(\"\"\"Time:      7  15   30\n",
        "Distance:  9  40  200\"\"\")"
      ],
      "metadata": {
        "id": "23lACAk155pe"
      },
      "execution_count": 9,
      "outputs": []
    },
    {
      "cell_type": "code",
      "source": [
        "import re\n",
        "import math\n",
        "\n",
        "with open(\"input6.txt\") as fin:\n",
        "    lines = list(fin)\n",
        "\n",
        "    races1 = list(zip(*([int(x) for x in re.findall(\"\\d+\", line)] for line in lines)))\n",
        "    races2 = [[int(\"\".join([x for num in re.findall(\"\\d+\", line) for x in num])) for line in lines]]\n",
        "\n",
        "print(races1)\n",
        "print(races2)"
      ],
      "metadata": {
        "colab": {
          "base_uri": "https://localhost:8080/"
        },
        "id": "Rv-HqK3m5oZb",
        "outputId": "a220487e-d7cb-482c-e950-7e1a04480828"
      },
      "execution_count": 10,
      "outputs": [
        {
          "output_type": "stream",
          "name": "stdout",
          "text": [
            "[(7, 9), (15, 40), (30, 200)]\n",
            "[[71530, 940200]]\n"
          ]
        }
      ]
    },
    {
      "cell_type": "markdown",
      "source": [
        "Given are races of duration $t_{max}$ and a record distance $s_{rec}$. We need to exceed the record distance. Distance is the product of speed and velocity:\n",
        "$$ s = v \\cdot t $$\n",
        "\n",
        "For each ms, that we press the button, our boat'sspeed increases by 1 mm/ms and therefore $ v = t_{press}  $.\n",
        "But here, the time is limited by the race time $t_{max}$ and also, the boat does not move for the time we press the button and therefore $ t = t_{max} - t_{press}$. Combining both yields\n",
        "\n",
        "$$ s = t_{press} \\cdot (t_{max} - t_{press}) $$\n",
        "\n",
        "or expressed differently:\n",
        "\n",
        "$$ 0 = t_{press}^2 + t_{press}t_{max} -s $$\n",
        "\n",
        "We can use the [well-kown formula to solve quadratic equations](https://en.wikipedia.org/wiki/Quadratic_equation#Reduced_quadratic_equation) to solve it.\n",
        "\n",
        "$$ t_{press} = \\frac{t_{max}}{2} \\pm \\sqrt{\\frac{t_{max}^2}{4} - s} $$\n",
        "\n",
        "**Note:** This formula yields the times at which we are equal to the record distance. We need to be **better** than the record! Therefore, if our solutions are exact milliseconds, we need to take the next integer (or previous for the upper bound)."
      ],
      "metadata": {
        "id": "B8HXJQxU6w_n"
      }
    },
    {
      "cell_type": "code",
      "source": [
        "\n",
        "def solve_race(races):\n",
        "    res = 1\n",
        "    for (t, s) in races:\n",
        "        # Lower bound\n",
        "        t0 = t/2 - ((t/2)**2 - s)**0.5\n",
        "\n",
        "        # Upper bound\n",
        "        t1 = t/2 + ((t/2)**2 - s)**0.5\n",
        "\n",
        "        # If the lower bound is exact, take the next one\n",
        "        if t0.is_integer():\n",
        "            t0 += 1\n",
        "\n",
        "        # If the upper bound is exact, take the next one\n",
        "        if t1.is_integer():\n",
        "            t1 -= 1\n",
        "\n",
        "        # Calculate the number of solutions\n",
        "        ways = math.floor(t1) - math.ceil(t0) +1\n",
        "\n",
        "        # And multiply the results\n",
        "        res *= ways\n",
        "\n",
        "    return res"
      ],
      "metadata": {
        "id": "CKEGN1CD6l6c"
      },
      "execution_count": 11,
      "outputs": []
    },
    {
      "cell_type": "code",
      "source": [
        "print(\"Solution for task 1:\", solve_race(races1))\n",
        "print(\"Solution for task 2:\", solve_race(races2))"
      ],
      "metadata": {
        "colab": {
          "base_uri": "https://localhost:8080/"
        },
        "id": "0IhsbZL96owk",
        "outputId": "1ce087f5-2eac-4716-b727-2c939b1b6f5a"
      },
      "execution_count": 12,
      "outputs": [
        {
          "output_type": "stream",
          "name": "stdout",
          "text": [
            "Solution for task 1: 288\n",
            "Solution for task 2: 71503\n"
          ]
        }
      ]
    }
  ]
}