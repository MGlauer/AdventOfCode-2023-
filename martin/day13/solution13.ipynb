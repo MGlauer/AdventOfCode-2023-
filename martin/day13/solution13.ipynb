{
 "cells": [
  {
   "cell_type": "code",
   "execution_count": 1,
   "outputs": [
    {
     "name": "stdout",
     "output_type": "stream",
     "text": [
      "#.##..##.\n",
      "..#.##.#.\n",
      "##......#\n",
      "##......#\n",
      "..#.##.#.\n",
      "..##..##.\n",
      "#.#.##.#.\n",
      "\n",
      "#...##..#\n",
      "#....#..#\n",
      "..##..###\n",
      "#####.##.\n",
      "#####.##.\n",
      "..##..###\n",
      "#....#..#\n"
     ]
    }
   ],
   "source": [
    "with open(\"test_input_1.txt\") as fin:\n",
    "    blocks = [[line.strip() for line in block.split(\"\\n\")] for block in \"\".join(fin).split(\"\\n\\n\")]\n",
    "\n",
    "print(\"\\n\\n\".join(\"\\n\".join(b) for b in blocks))"
   ],
   "metadata": {
    "collapsed": false,
    "ExecuteTime": {
     "end_time": "2023-12-13T23:07:50.989084273Z",
     "start_time": "2023-12-13T23:07:50.982031110Z"
    }
   },
   "id": "6b393581374abd62"
  },
  {
   "cell_type": "markdown",
   "source": [
    "## Part 1\n",
    "\n",
    "The idea is as follows: We maintain a set of possible \"mirror candidates\", from which we continuously eliminate. At the first step, each column is a candidate. \n",
    "For each line, we check whether a candidate's reflection does still match. If it does not, we eliminate this candidate.\n",
    "\n",
    "Let's limit our considerations to a column on the left half of the string - for the right half, it is the same but on the reversed string. In this case, we have to measure the distance between our chosen column and the closest end of the string (in this case the left end):\n",
    "\n",
    "```\n",
    "123456789\n",
    "#.##..##.\n",
    "  ><\n",
    "```\n",
    "\n",
    "In our example, we consider column 3 as a mirror candidate. The distance to the left end is 3 and the substring to this end is \"#.#\". Now, we consider the **reverse** of the right substring of the same length starting at the same position, i.e. \"..#\"). These two do not match:\n",
    "```\n",
    "#.#\n",
    "..#\n",
    "^\n",
    "``` \n",
    "Therefore, we can eliminate column number 3 from our set of candidates and proceed. We repeat this process for every other candidate. When we iterated over all candidates, we move to the next line in order to eliminate more candidates.\n",
    "\n",
    "When once processed all lines, there should be at most one candidate left."
   ],
   "metadata": {
    "collapsed": false
   },
   "id": "a4d2ff8092af7704"
  },
  {
   "cell_type": "code",
   "execution_count": 2,
   "outputs": [
    {
     "name": "stdout",
     "output_type": "stream",
     "text": [
      "Mismatches on \"#.##..##.\":\n",
      "Candidate column 1: 1\n",
      "Candidate column 2: 1\n",
      "Candidate column 3: 1\n",
      "Candidate column 4: 3\n",
      "Candidate column 5: 0\n",
      "Candidate column 6: 3\n",
      "Candidate column 7: 0\n",
      "Candidate column 8: 1\n"
     ]
    }
   ],
   "source": [
    "def count_mismatches(line, column):\n",
    "    if column < len(line)/2:\n",
    "        # If we are in the first half if the line, \n",
    "        # we have to consider the distance to the left end\n",
    "        # and derive the respective substrings\n",
    "        left_side = line[:column]\n",
    "        reversed_right_side = line[column:2*column][::-1]\n",
    "    else:\n",
    "        # If we are in the second half if the line, \n",
    "        # we have to consider the distance to the right end\n",
    "        # and derive the respective substrings\n",
    "        left_side = line[2*column-len(line):column]\n",
    "        reversed_right_side = line[column:][::-1]\n",
    "    \n",
    "    # Count the mismatches (we need this for task 2)\n",
    "    return sum(1 for l,r in zip(left_side, reversed_right_side) if l != r)\n",
    "\n",
    "example_line = \"#.##..##.\"\n",
    "print(f\"Mismatches on \\\"{example_line}\\\":\")\n",
    "for candidate in range(1,len(example_line)):\n",
    "    print(f\"Candidate column {candidate}:\",count_mismatches(example_line,candidate))"
   ],
   "metadata": {
    "collapsed": false,
    "ExecuteTime": {
     "end_time": "2023-12-13T23:07:50.989374836Z",
     "start_time": "2023-12-13T23:07:50.982241985Z"
    }
   },
   "id": "a726eaddecb548d0"
  },
  {
   "cell_type": "markdown",
   "source": [
    "As we can see, there would be only two candidates left after processing the first line of our example input: $\\{5,7\\}$"
   ],
   "metadata": {
    "collapsed": false
   },
   "id": "de1cddeb4b1e3dc3"
  },
  {
   "cell_type": "code",
   "execution_count": 3,
   "outputs": [],
   "source": [
    "def find_mirrors(lines):\n",
    "    width = len(lines[0])\n",
    "    # create a set of mirror candidates\n",
    "    candidates = set(range(1,width))\n",
    "    for line in lines:\n",
    "        new_candidates = candidates.copy()\n",
    "        for c in candidates:\n",
    "            # If they are not equal, we eliminate them from the set of candidates\n",
    "            if not count_mismatches(line, c) == 0:\n",
    "                new_candidates.remove(c)\n",
    "        candidates = new_candidates\n",
    "    return candidates"
   ],
   "metadata": {
    "collapsed": false,
    "ExecuteTime": {
     "end_time": "2023-12-13T23:07:50.989492846Z",
     "start_time": "2023-12-13T23:07:50.982354315Z"
    }
   },
   "id": "430c49e61d81b6dc"
  },
  {
   "cell_type": "markdown",
   "source": [
    "The algorithm above does only work for columns. But we can easily use the same method by transposing the input (i.e. swapping columns and rows)\n",
    "The solution is then the position of all horizontal mirrors plus 100 times the position all vertical mirrors."
   ],
   "metadata": {
    "collapsed": false
   },
   "id": "9829fa5bd216ae84"
  },
  {
   "cell_type": "code",
   "execution_count": 4,
   "outputs": [
    {
     "name": "stdout",
     "output_type": "stream",
     "text": [
      "405\n"
     ]
    }
   ],
   "source": [
    "def solve(blocks, finder):\n",
    "    s = 0\n",
    "    for lines in blocks:\n",
    "        horizontal_mirrors = finder(lines)\n",
    "        transposed_lines = [[lines[j][i] for j in range(len(lines))] for i in range(len(lines[0]))]  \n",
    "        vertical_mirrors = finder(transposed_lines)\n",
    "        s += sum(100*v for v in vertical_mirrors) + sum(horizontal_mirrors)\n",
    "    return s\n",
    "\n",
    "print(solve(blocks, find_mirrors))"
   ],
   "metadata": {
    "collapsed": false,
    "ExecuteTime": {
     "end_time": "2023-12-13T23:07:50.989690135Z",
     "start_time": "2023-12-13T23:07:50.982443167Z"
    }
   },
   "id": "2fd71ca5f7c5fd2a"
  },
  {
   "cell_type": "markdown",
   "source": [
    "## Part 2\n",
    "\n",
    "This approach follows the same general idea. But this time we maintain two sets. The candidate set from the previous solution tracked all mirror candidates - i.e. those columns for which the corresponding substrings did match in each row. Now, we add a second set: The candidates with a single mismatch, which starts empty. When we consider a candidate without prior mismatch (i.e. from the first set) and we detect a single mismatch between the respective substrings, we still remove it from the first set, but we add it to the second one. We do not do the same, if we detect a larger mismatch!\n",
    "\n",
    "Further, we also have to check the candidates in the second set. If we detect another mismatch in any other line, we discard this candidate entirely."
   ],
   "metadata": {
    "collapsed": false
   },
   "id": "f4fa1c004c757b6c"
  },
  {
   "cell_type": "code",
   "execution_count": 5,
   "outputs": [
    {
     "name": "stdout",
     "output_type": "stream",
     "text": [
      "Output: 400\n"
     ]
    }
   ],
   "source": [
    "def find_mirrors2(lines):\n",
    "    width = len(lines[0])\n",
    "    candidates_without_mismatch = set(range(1,width))\n",
    "    candidates_with_singular_mismatch = set()\n",
    "    for lineno, line in enumerate(lines):\n",
    "        new_candidates_without_change = candidates_without_mismatch.copy()\n",
    "        new_candidates_with_change = candidates_with_singular_mismatch.copy()\n",
    "        for c in candidates_without_mismatch:\n",
    "            mismatches = count_mismatches(line, c)\n",
    "            if not mismatches == 0:\n",
    "                new_candidates_without_change.remove(c)\n",
    "                # Did we detect a single mismatch?\n",
    "                if mismatches == 1:\n",
    "                    # Move candidate to second set\n",
    "                    new_candidates_with_change.add(c)\n",
    "        for c in candidates_with_singular_mismatch:\n",
    "            # If we detect another mismatch for a candidate that had a single mismatch,\n",
    "            # we discard it entirely.\n",
    "            mismatches = count_mismatches(line, c)\n",
    "            if not mismatches == 0:\n",
    "                new_candidates_with_change.remove(c)\n",
    "        candidates_with_singular_mismatch = new_candidates_with_change\n",
    "        candidates_without_mismatch = new_candidates_without_change\n",
    "    # Our result requires there to be a single mismatch\n",
    "    return candidates_with_singular_mismatch\n",
    "\n",
    "\n",
    "print(\"Output:\", solve(blocks, find_mirrors2))"
   ],
   "metadata": {
    "collapsed": false,
    "ExecuteTime": {
     "end_time": "2023-12-13T23:07:51.064035247Z",
     "start_time": "2023-12-13T23:07:50.982706037Z"
    }
   },
   "id": "7d5c32c6425ab350"
  }
 ],
 "metadata": {
  "kernelspec": {
   "display_name": "Python 3",
   "language": "python",
   "name": "python3"
  },
  "language_info": {
   "codemirror_mode": {
    "name": "ipython",
    "version": 2
   },
   "file_extension": ".py",
   "mimetype": "text/x-python",
   "name": "python",
   "nbconvert_exporter": "python",
   "pygments_lexer": "ipython2",
   "version": "2.7.6"
  }
 },
 "nbformat": 4,
 "nbformat_minor": 5
}
