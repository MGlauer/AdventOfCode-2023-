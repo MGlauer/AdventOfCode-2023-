{
 "cells": [
  {
   "cell_type": "code",
   "execution_count": 1,
   "id": "initial_id",
   "metadata": {
    "collapsed": true,
    "ExecuteTime": {
     "end_time": "2023-12-15T11:10:54.801155995Z",
     "start_time": "2023-12-15T11:10:54.795226641Z"
    }
   },
   "outputs": [
    {
     "name": "stdout",
     "output_type": "stream",
     "text": [
      "1320\n"
     ]
    }
   ],
   "source": [
    "with open(\"test_input_1.txt\") as fin:\n",
    "    input_line = next(fin).strip().split(\",\")\n",
    "    \n",
    "def calculate_hash(xs):\n",
    "    s = 0\n",
    "    for x in xs:\n",
    "        s += ord(x)\n",
    "        s *= 17\n",
    "        s %= 256\n",
    "    return s\n",
    "\n",
    "print(sum(calculate_hash(batch) for batch in input_line))"
   ]
  },
  {
   "cell_type": "code",
   "execution_count": 2,
   "outputs": [
    {
     "name": "stdout",
     "output_type": "stream",
     "text": [
      "145\n"
     ]
    }
   ],
   "source": [
    "\n",
    "box_focal_lenths_and_labels = {i:(dict(),list()) for i in range(256)}\n",
    "\n",
    "\n",
    "for instruction in input_line:\n",
    "    \n",
    "    \n",
    "    if \"=\" in instruction:\n",
    "        label, focal_length = instruction.split(\"=\")\n",
    "        instruction_hash = calculate_hash(label)\n",
    "        box_focal_lengths, box_labels = box_focal_lenths_and_labels[instruction_hash]\n",
    "        if not label in box_labels:\n",
    "            box_labels.append(label)\n",
    "        box_focal_lengths[label] = int(focal_length)\n",
    "    else:\n",
    "        assert instruction[-1] == \"-\"\n",
    "        label = instruction[:-1]\n",
    "        instruction_hash = calculate_hash(label)\n",
    "        box_focal_lengths, box_labels = box_focal_lenths_and_labels[instruction_hash]\n",
    "        if label in box_labels:\n",
    "            box_labels.remove(label)\n",
    "            del box_focal_lengths[label]\n",
    "    \n",
    "s = 0\n",
    "for box_index, (box_focal_lengths, box_labels) in box_focal_lenths_and_labels.items():\n",
    "    for lens_index, label in enumerate(box_labels):\n",
    "        s += (box_index+1)*(lens_index+1)*box_focal_lengths[label]\n",
    "        \n",
    "print(s)"
   ],
   "metadata": {
    "collapsed": false,
    "ExecuteTime": {
     "end_time": "2023-12-15T11:10:54.883584054Z",
     "start_time": "2023-12-15T11:10:54.807053898Z"
    }
   },
   "id": "5d4333794bf22c68"
  }
 ],
 "metadata": {
  "kernelspec": {
   "display_name": "Python 3",
   "language": "python",
   "name": "python3"
  },
  "language_info": {
   "codemirror_mode": {
    "name": "ipython",
    "version": 2
   },
   "file_extension": ".py",
   "mimetype": "text/x-python",
   "name": "python",
   "nbconvert_exporter": "python",
   "pygments_lexer": "ipython2",
   "version": "2.7.6"
  }
 },
 "nbformat": 4,
 "nbformat_minor": 5
}
