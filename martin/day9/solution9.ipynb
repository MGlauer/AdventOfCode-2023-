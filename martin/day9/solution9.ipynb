{
 "cells": [
  {
   "cell_type": "code",
   "execution_count": 1,
   "id": "initial_id",
   "metadata": {
    "collapsed": true,
    "ExecuteTime": {
     "end_time": "2023-12-16T10:17:40.004943353Z",
     "start_time": "2023-12-16T10:17:39.978773553Z"
    }
   },
   "outputs": [
    {
     "data": {
      "text/plain": "[1, 1]"
     },
     "execution_count": 1,
     "metadata": {},
     "output_type": "execute_result"
    }
   ],
   "source": [
    "import math \n",
    "\n",
    "\n",
    "def get_factors(n):\n",
    "    return [math.comb(n,k) for k in range(n+1)]\n",
    "\n",
    "get_factors(1)"
   ]
  },
  {
   "cell_type": "code",
   "execution_count": 2,
   "outputs": [
    {
     "name": "stdout",
     "output_type": "stream",
     "text": [
      "[[0, 3, 6, 9, 12, 15], [1, 3, 6, 10, 15, 21], [10, 13, 16, 21, 30, 45]]\n"
     ]
    }
   ],
   "source": [
    "with open(\"test_input_1.txt\") as fin:\n",
    "    rows =[ [int(x) for x in row.split(\" \")] for row in fin]\n",
    "    \n",
    "print(rows)\n"
   ],
   "metadata": {
    "collapsed": false,
    "ExecuteTime": {
     "end_time": "2023-12-16T10:17:40.045345364Z",
     "start_time": "2023-12-16T10:17:39.994801982Z"
    }
   },
   "id": "6eaf7aa73411bdd0"
  },
  {
   "cell_type": "code",
   "execution_count": 3,
   "outputs": [
    {
     "name": "stdout",
     "output_type": "stream",
     "text": [
      "10 13 16 21 30 45\n",
      "3 3 5 9 15\n",
      "0 2 4 6\n",
      "2 2 2\n",
      "0 0\n",
      "0\n"
     ]
    }
   ],
   "source": [
    "\n",
    "def calculate_solution_in_row(n,offset,row):\n",
    "    l = [(-1)**(n-k)*math.comb(n,k)*row[offset+k] for k in range(0, n+1)]\n",
    "    return sum(l)\n",
    "\n",
    "for i in range(len(rows[-1])):\n",
    "    print(*(str(calculate_solution_in_row(i,j,rows[-1])) for j in range(len(rows[-1])-i)))\n"
   ],
   "metadata": {
    "collapsed": false,
    "ExecuteTime": {
     "end_time": "2023-12-16T10:17:40.046723562Z",
     "start_time": "2023-12-16T10:17:40.013521847Z"
    }
   },
   "id": "ad341a9ff49f96be"
  },
  {
   "cell_type": "code",
   "execution_count": 4,
   "outputs": [
    {
     "name": "stdout",
     "output_type": "stream",
     "text": [
      "114\n"
     ]
    }
   ],
   "source": [
    "\n",
    "def get_solution_row(row):\n",
    "    entries = [row[-1]]\n",
    "    k = 1\n",
    "    done = False\n",
    "    while not done:\n",
    "        entries.append(calculate_solution_in_row(k, len(row)-k-1, row))\n",
    "        k += 1\n",
    "        done = all(calculate_solution_in_row(k, j, row)==0 for j in range(len(row)-k))\n",
    "    return k, entries\n",
    "\n",
    "def solve_row(row):\n",
    "    k, entries = get_solution_row(row)\n",
    "    s = 0\n",
    "    for x in entries:\n",
    "        s = x+s\n",
    "    return s\n",
    "    \n",
    "print( sum(solve_row(row) for row in rows))\n",
    "    \n",
    "        "
   ],
   "metadata": {
    "collapsed": false,
    "ExecuteTime": {
     "end_time": "2023-12-16T10:17:40.183651626Z",
     "start_time": "2023-12-16T10:17:40.038830927Z"
    }
   },
   "id": "77cf7130cf1d61c1"
  },
  {
   "cell_type": "code",
   "execution_count": 5,
   "outputs": [
    {
     "name": "stdout",
     "output_type": "stream",
     "text": [
      "[0, 3, 0]\n",
      "-3 0 3 6 9 12 15\n",
      "3 3 3 3 3 3\n",
      "0 0 0 0 0\n",
      "0 0 0 0\n",
      "0 0 0\n",
      "0 0\n",
      "0\n",
      "[1, 2, 1, 0]\n",
      "0 1 3 6 10 15 21\n",
      "1 2 3 4 5 6\n",
      "1 1 1 1 1\n",
      "0 0 0 0\n",
      "0 0 0\n",
      "0 0\n",
      "0\n",
      "[10, 3, 0, 2, 0]\n",
      "5 10 13 16 21 30 45\n",
      "5 3 3 5 9 15\n",
      "-2 0 2 4 6\n",
      "2 2 2 2\n",
      "0 0 0\n",
      "0 0\n",
      "0\n",
      "[0, 3, 0]\n",
      "-3 0 3 6 9 12 15\n",
      "3 3 3 3 3 3\n",
      "0 0 0 0 0\n",
      "0 0 0 0\n",
      "0 0 0\n",
      "0 0\n",
      "0\n",
      "[1, 2, 1, 0]\n",
      "0 1 3 6 10 15 21\n",
      "1 2 3 4 5 6\n",
      "1 1 1 1 1\n",
      "0 0 0 0\n",
      "0 0 0\n",
      "0 0\n",
      "0\n",
      "[10, 3, 0, 2, 0]\n",
      "5 10 13 16 21 30 45\n",
      "5 3 3 5 9 15\n",
      "-2 0 2 4 6\n",
      "2 2 2 2\n",
      "0 0 0\n",
      "0 0\n",
      "0\n",
      "2\n",
      "[-3, 0, 5]\n"
     ]
    }
   ],
   "source": [
    "def get_solution_row2(row):\n",
    "    entries = [row[0]]\n",
    "    k = 1\n",
    "    last = 1\n",
    "    while not (last == 0):\n",
    "        entries.append(calculate_solution_in_row(k, 0, row))\n",
    "        last = calculate_solution_in_row(k, len(row)-k-1, row)\n",
    "        k += 1\n",
    "    return k, entries\n",
    "\n",
    "def solve_row2(row):\n",
    "    k, entries = get_solution_row2(row)\n",
    "    print(entries)\n",
    "    s = 0\n",
    "    for x in reversed(entries):\n",
    "        s = x-s\n",
    "        \n",
    "    new_row = [s]+row\n",
    "    for i in range(len(new_row)):\n",
    "        print(*(str(calculate_solution_in_row(i,j,new_row)) for j in range(len(new_row)-i)))\n",
    "        \n",
    "    return s\n",
    "    \n",
    "l = [solve_row2(row) for row in rows]\n",
    "\n",
    "print( sum(solve_row2(row) for row in rows))\n",
    "print(l)"
   ],
   "metadata": {
    "collapsed": false,
    "ExecuteTime": {
     "end_time": "2023-12-16T10:17:40.186309170Z",
     "start_time": "2023-12-16T10:17:40.064296Z"
    }
   },
   "id": "3e23fee2fae55ea"
  }
 ],
 "metadata": {
  "kernelspec": {
   "display_name": "Python 3",
   "language": "python",
   "name": "python3"
  },
  "language_info": {
   "codemirror_mode": {
    "name": "ipython",
    "version": 2
   },
   "file_extension": ".py",
   "mimetype": "text/x-python",
   "name": "python",
   "nbconvert_exporter": "python",
   "pygments_lexer": "ipython2",
   "version": "2.7.6"
  }
 },
 "nbformat": 4,
 "nbformat_minor": 5
}
